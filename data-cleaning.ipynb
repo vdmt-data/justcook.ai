{
 "cells": [
  {
   "cell_type": "markdown",
   "metadata": {},
   "source": [
    "## Dataset - Data Cleaning"
   ]
  },
  {
   "cell_type": "markdown",
   "metadata": {},
   "source": [
    "Fichiers a traiter :\n",
    "- dataset/marmiton/data/recettes-plats.csv\n",
    "- dataset/marmiton/data/recettes-desserts.csv\n",
    "- dataset/marmiton/data/recettes-boissons.csv\n",
    "- dataset/marmiton/data/recettes-entrees.csv\n",
    "\n",
    "Methodologie :\n",
    "L'ojectif est de nettoyer et de preparer les donnees pour la modelisation. Il convient en premiere de fusionner les 4 datasets.\n",
    "Certaines transformation peuvent etre realiser sur les datasets avant la fusion, comme l'ajout du type de recette.\n",
    "Une fois les 4 datasets reunis, il sera plus facile de supprimer les doublons, les individus Null, convertir les listes, les durees en timestamp, etc."
   ]
  },
  {
   "cell_type": "markdown",
   "metadata": {},
   "source": [
    "### Chargement des librairies"
   ]
  },
  {
   "cell_type": "code",
   "execution_count": 224,
   "metadata": {},
   "outputs": [],
   "source": [
    "import pandas as pd\n",
    "import ast\n",
    "from datetime import datetime, timedelta\n",
    "import re\n",
    "import numpy as np"
   ]
  },
  {
   "cell_type": "markdown",
   "metadata": {},
   "source": [
    "## 1. Charger les datasets et attribuer un type aux recettes"
   ]
  },
  {
   "cell_type": "code",
   "execution_count": 225,
   "metadata": {},
   "outputs": [],
   "source": [
    "DATASET_PLATS = \"dataset/marmiton/data/recettes-plats.csv\"\n",
    "DATASET_ENTREES = \"dataset/marmiton/data/recettes-entrees.csv\"\n",
    "DATASET_DESSERTS = \"dataset/marmiton/data/recettes-desserts.csv\"\n",
    "DATASET_BOISSONS = \"dataset/marmiton/data/recettes-boissons.csv\"\n",
    "\n",
    "\n",
    "df_plats = pd.read_csv(DATASET_PLATS, sep=\";\", encoding=\"utf-8\")    \n",
    "df_entrees = pd.read_csv(DATASET_ENTREES, sep=\";\", encoding=\"utf-8\")\n",
    "df_desserts = pd.read_csv(DATASET_DESSERTS, sep=\";\", encoding=\"utf-8\")\n",
    "df_boissons = pd.read_csv(DATASET_BOISSONS, sep=\";\", encoding=\"utf-8\")"
   ]
  },
  {
   "cell_type": "code",
   "execution_count": 226,
   "metadata": {},
   "outputs": [
    {
     "name": "stdout",
     "output_type": "stream",
     "text": [
      "<class 'pandas.core.frame.DataFrame'>\n",
      "RangeIndex: 17070 entries, 0 to 17069\n",
      "Data columns (total 11 columns):\n",
      " #   Column               Non-Null Count  Dtype  \n",
      "---  ------               --------------  -----  \n",
      " 0   Titre                17029 non-null  object \n",
      " 1   Temps Total          16963 non-null  object \n",
      " 2   Temps Préparation    17029 non-null  object \n",
      " 3   Temps Cuisson        17029 non-null  object \n",
      " 4   Nombre de personnes  17022 non-null  float64\n",
      " 5   Difficulté           17029 non-null  object \n",
      " 6   Coût                 17029 non-null  object \n",
      " 7   Ingrédients          17070 non-null  object \n",
      " 8   Étapes               17070 non-null  object \n",
      " 9   Ustensiles           17070 non-null  object \n",
      " 10  Liens_recette        17070 non-null  object \n",
      "dtypes: float64(1), object(10)\n",
      "memory usage: 1.4+ MB\n"
     ]
    }
   ],
   "source": [
    "df_plats.info()"
   ]
  },
  {
   "cell_type": "code",
   "execution_count": 227,
   "metadata": {},
   "outputs": [
    {
     "name": "stdout",
     "output_type": "stream",
     "text": [
      "<class 'pandas.core.frame.DataFrame'>\n",
      "RangeIndex: 5570 entries, 0 to 5569\n",
      "Data columns (total 11 columns):\n",
      " #   Column               Non-Null Count  Dtype  \n",
      "---  ------               --------------  -----  \n",
      " 0   Titre                5549 non-null   object \n",
      " 1   Temps Total          5531 non-null   object \n",
      " 2   Temps Préparation    5549 non-null   object \n",
      " 3   Temps Cuisson        5549 non-null   object \n",
      " 4   Nombre de personnes  5545 non-null   float64\n",
      " 5   Difficulté           5549 non-null   object \n",
      " 6   Coût                 5549 non-null   object \n",
      " 7   Ingrédients          5570 non-null   object \n",
      " 8   Étapes               5570 non-null   object \n",
      " 9   Ustensiles           5570 non-null   object \n",
      " 10  Liens_recette        5570 non-null   object \n",
      "dtypes: float64(1), object(10)\n",
      "memory usage: 478.8+ KB\n"
     ]
    }
   ],
   "source": [
    "df_entrees.info()"
   ]
  },
  {
   "cell_type": "code",
   "execution_count": 228,
   "metadata": {},
   "outputs": [
    {
     "name": "stdout",
     "output_type": "stream",
     "text": [
      "<class 'pandas.core.frame.DataFrame'>\n",
      "RangeIndex: 12841 entries, 0 to 12840\n",
      "Data columns (total 11 columns):\n",
      " #   Column               Non-Null Count  Dtype \n",
      "---  ------               --------------  ----- \n",
      " 0   Titre                11281 non-null  object\n",
      " 1   Temps Total          11234 non-null  object\n",
      " 2   Temps Préparation    11281 non-null  object\n",
      " 3   Temps Cuisson        11281 non-null  object\n",
      " 4   Nombre de personnes  11268 non-null  object\n",
      " 5   Difficulté           11281 non-null  object\n",
      " 6   Coût                 11281 non-null  object\n",
      " 7   Ingrédients          12841 non-null  object\n",
      " 8   Étapes               12841 non-null  object\n",
      " 9   Ustensiles           12841 non-null  object\n",
      " 10  Liens_recette        12841 non-null  object\n",
      "dtypes: object(11)\n",
      "memory usage: 1.1+ MB\n"
     ]
    }
   ],
   "source": [
    "df_desserts.info()"
   ]
  },
  {
   "cell_type": "code",
   "execution_count": 229,
   "metadata": {},
   "outputs": [
    {
     "name": "stdout",
     "output_type": "stream",
     "text": [
      "<class 'pandas.core.frame.DataFrame'>\n",
      "RangeIndex: 511 entries, 0 to 510\n",
      "Data columns (total 11 columns):\n",
      " #   Column               Non-Null Count  Dtype  \n",
      "---  ------               --------------  -----  \n",
      " 0   Titre                507 non-null    object \n",
      " 1   Temps Total          500 non-null    object \n",
      " 2   Temps Préparation    507 non-null    object \n",
      " 3   Temps Cuisson        507 non-null    object \n",
      " 4   Nombre de personnes  507 non-null    float64\n",
      " 5   Difficulté           507 non-null    object \n",
      " 6   Coût                 507 non-null    object \n",
      " 7   Ingrédients          511 non-null    object \n",
      " 8   Étapes               511 non-null    object \n",
      " 9   Ustensiles           511 non-null    object \n",
      " 10  Liens_recette        511 non-null    object \n",
      "dtypes: float64(1), object(10)\n",
      "memory usage: 44.0+ KB\n"
     ]
    }
   ],
   "source": [
    "df_boissons.info()"
   ]
  },
  {
   "cell_type": "markdown",
   "metadata": {},
   "source": [
    "### Ajouter le type des plats"
   ]
  },
  {
   "cell_type": "code",
   "execution_count": 230,
   "metadata": {},
   "outputs": [],
   "source": [
    "df_plats['Type'] = 'plat'\n",
    "df_entrees['Type'] = 'entree'\n",
    "df_desserts['Type'] = 'dessert'\n",
    "df_boissons['Type'] = 'boisson'"
   ]
  },
  {
   "cell_type": "markdown",
   "metadata": {},
   "source": [
    "### Fusionner les datasets"
   ]
  },
  {
   "cell_type": "code",
   "execution_count": 231,
   "metadata": {},
   "outputs": [],
   "source": [
    "# Fusionner les quatres dataset\n",
    "df = pd.concat([df_plats, df_entrees, df_desserts, df_boissons], ignore_index=True)"
   ]
  },
  {
   "cell_type": "code",
   "execution_count": 232,
   "metadata": {},
   "outputs": [
    {
     "data": {
      "text/html": [
       "<div>\n",
       "<style scoped>\n",
       "    .dataframe tbody tr th:only-of-type {\n",
       "        vertical-align: middle;\n",
       "    }\n",
       "\n",
       "    .dataframe tbody tr th {\n",
       "        vertical-align: top;\n",
       "    }\n",
       "\n",
       "    .dataframe thead th {\n",
       "        text-align: right;\n",
       "    }\n",
       "</style>\n",
       "<table border=\"1\" class=\"dataframe\">\n",
       "  <thead>\n",
       "    <tr style=\"text-align: right;\">\n",
       "      <th></th>\n",
       "      <th>Titre</th>\n",
       "      <th>Temps Total</th>\n",
       "      <th>Temps Préparation</th>\n",
       "      <th>Temps Cuisson</th>\n",
       "      <th>Nombre de personnes</th>\n",
       "      <th>Difficulté</th>\n",
       "      <th>Coût</th>\n",
       "      <th>Ingrédients</th>\n",
       "      <th>Étapes</th>\n",
       "      <th>Ustensiles</th>\n",
       "      <th>Liens_recette</th>\n",
       "      <th>Type</th>\n",
       "    </tr>\n",
       "  </thead>\n",
       "  <tbody>\n",
       "    <tr>\n",
       "      <th>0</th>\n",
       "      <td>Cuisse de dinde façon couscous de chez Karpeth</td>\n",
       "      <td>1h50</td>\n",
       "      <td>25 min</td>\n",
       "      <td>1h25</td>\n",
       "      <td>4.0</td>\n",
       "      <td>moyenne</td>\n",
       "      <td>moyen</td>\n",
       "      <td>['2 courgettes , diamètre 4 ou 5 cm', '3 carot...</td>\n",
       "      <td>['1 casserole pour préparer la semoule (ou 1 b...</td>\n",
       "      <td>['1 couteau', '1 Couvercle', '1 sauteuse', '1 ...</td>\n",
       "      <td>https://www.marmiton.org/recettes/recette_cuis...</td>\n",
       "      <td>plat</td>\n",
       "    </tr>\n",
       "    <tr>\n",
       "      <th>1</th>\n",
       "      <td>Blanquette de veau facile au Cookeo</td>\n",
       "      <td>1h10</td>\n",
       "      <td>25 min</td>\n",
       "      <td>45 min</td>\n",
       "      <td>4.0</td>\n",
       "      <td>très facile</td>\n",
       "      <td>moyen</td>\n",
       "      <td>['2 carottes', '1 oignon jaune', '1 petit pot ...</td>\n",
       "      <td>[\"Coupez la viande en morceaux de taille moyen...</td>\n",
       "      <td>['1 Cookeo', '1 Cuillère en bois', '1 bol', '1...</td>\n",
       "      <td>https://www.marmiton.org/recettes/recette_blan...</td>\n",
       "      <td>plat</td>\n",
       "    </tr>\n",
       "    <tr>\n",
       "      <th>2</th>\n",
       "      <td>Terrine de foie gras au Sauternes</td>\n",
       "      <td>1h40</td>\n",
       "      <td>40 min</td>\n",
       "      <td>1 h</td>\n",
       "      <td>10.0</td>\n",
       "      <td>facile</td>\n",
       "      <td>assez cher</td>\n",
       "      <td>['3 pincées de quatre-épices', '15 g de sel', ...</td>\n",
       "      <td>['A préparer 4 ou 5 jours avant.', \"Faire trem...</td>\n",
       "      <td>['1 Cuillère en bois', '1 saladier', '1 Four',...</td>\n",
       "      <td>https://www.marmiton.org/recettes/recette_terr...</td>\n",
       "      <td>plat</td>\n",
       "    </tr>\n",
       "    <tr>\n",
       "      <th>3</th>\n",
       "      <td>Couscous Royal</td>\n",
       "      <td>3h30</td>\n",
       "      <td>30 min</td>\n",
       "      <td>3 h</td>\n",
       "      <td>2.0</td>\n",
       "      <td>facile</td>\n",
       "      <td>bon marché</td>\n",
       "      <td>['1 barquette d’émincé 100% végétal ACCRO', '4...</td>\n",
       "      <td>['Préparation de la semoule : placez la semoul...</td>\n",
       "      <td>['1 plat', '1 casseroles', '1 couteau']</td>\n",
       "      <td>https://www.marmiton.org/recettes/recette_cous...</td>\n",
       "      <td>plat</td>\n",
       "    </tr>\n",
       "    <tr>\n",
       "      <th>4</th>\n",
       "      <td>Quiche jambon, fromage, tomate, olives</td>\n",
       "      <td>40 min</td>\n",
       "      <td>15 min</td>\n",
       "      <td>25 min</td>\n",
       "      <td>6.0</td>\n",
       "      <td>facile</td>\n",
       "      <td>bon marché</td>\n",
       "      <td>[\"4 tranches de jambon cuit à l'Étouffée LE BO...</td>\n",
       "      <td>['Préchauffez le four à 200°C en chaleur tourn...</td>\n",
       "      <td>['1 moule à tarte', '1 fourchette', '1 saladier']</td>\n",
       "      <td>https://www.marmiton.org/recettes/recette_quic...</td>\n",
       "      <td>plat</td>\n",
       "    </tr>\n",
       "  </tbody>\n",
       "</table>\n",
       "</div>"
      ],
      "text/plain": [
       "                                            Titre Temps Total  \\\n",
       "0  Cuisse de dinde façon couscous de chez Karpeth        1h50   \n",
       "1             Blanquette de veau facile au Cookeo        1h10   \n",
       "2               Terrine de foie gras au Sauternes        1h40   \n",
       "3                                  Couscous Royal        3h30   \n",
       "4          Quiche jambon, fromage, tomate, olives      40 min   \n",
       "\n",
       "  Temps Préparation Temps Cuisson Nombre de personnes   Difficulté  \\\n",
       "0            25 min          1h25                 4.0      moyenne   \n",
       "1            25 min        45 min                 4.0  très facile   \n",
       "2            40 min           1 h                10.0       facile   \n",
       "3            30 min           3 h                 2.0       facile   \n",
       "4            15 min        25 min                 6.0       facile   \n",
       "\n",
       "         Coût                                        Ingrédients  \\\n",
       "0       moyen  ['2 courgettes , diamètre 4 ou 5 cm', '3 carot...   \n",
       "1       moyen  ['2 carottes', '1 oignon jaune', '1 petit pot ...   \n",
       "2  assez cher  ['3 pincées de quatre-épices', '15 g de sel', ...   \n",
       "3  bon marché  ['1 barquette d’émincé 100% végétal ACCRO', '4...   \n",
       "4  bon marché  [\"4 tranches de jambon cuit à l'Étouffée LE BO...   \n",
       "\n",
       "                                              Étapes  \\\n",
       "0  ['1 casserole pour préparer la semoule (ou 1 b...   \n",
       "1  [\"Coupez la viande en morceaux de taille moyen...   \n",
       "2  ['A préparer 4 ou 5 jours avant.', \"Faire trem...   \n",
       "3  ['Préparation de la semoule : placez la semoul...   \n",
       "4  ['Préchauffez le four à 200°C en chaleur tourn...   \n",
       "\n",
       "                                          Ustensiles  \\\n",
       "0  ['1 couteau', '1 Couvercle', '1 sauteuse', '1 ...   \n",
       "1  ['1 Cookeo', '1 Cuillère en bois', '1 bol', '1...   \n",
       "2  ['1 Cuillère en bois', '1 saladier', '1 Four',...   \n",
       "3            ['1 plat', '1 casseroles', '1 couteau']   \n",
       "4  ['1 moule à tarte', '1 fourchette', '1 saladier']   \n",
       "\n",
       "                                       Liens_recette  Type  \n",
       "0  https://www.marmiton.org/recettes/recette_cuis...  plat  \n",
       "1  https://www.marmiton.org/recettes/recette_blan...  plat  \n",
       "2  https://www.marmiton.org/recettes/recette_terr...  plat  \n",
       "3  https://www.marmiton.org/recettes/recette_cous...  plat  \n",
       "4  https://www.marmiton.org/recettes/recette_quic...  plat  "
      ]
     },
     "execution_count": 232,
     "metadata": {},
     "output_type": "execute_result"
    }
   ],
   "source": [
    "df.head()"
   ]
  },
  {
   "cell_type": "markdown",
   "metadata": {},
   "source": [
    "## 2. Data Cleaning"
   ]
  },
  {
   "cell_type": "markdown",
   "metadata": {},
   "source": [
    "### Supprimer les doublons"
   ]
  },
  {
   "cell_type": "code",
   "execution_count": 233,
   "metadata": {},
   "outputs": [
    {
     "data": {
      "text/plain": [
       "np.int64(1706)"
      ]
     },
     "execution_count": 233,
     "metadata": {},
     "output_type": "execute_result"
    }
   ],
   "source": [
    "# Verifier les doublons a partir du titre de la recette\n",
    "df.duplicated(subset=['Titre']).sum()"
   ]
  },
  {
   "cell_type": "code",
   "execution_count": 234,
   "metadata": {},
   "outputs": [],
   "source": [
    "# Supprimer les doublons a partir du titre de la recette\n",
    "df = df.drop_duplicates(subset=['Titre'], keep='first')"
   ]
  },
  {
   "cell_type": "markdown",
   "metadata": {},
   "source": [
    "### Supprimer les valeurs NaN"
   ]
  },
  {
   "cell_type": "code",
   "execution_count": 235,
   "metadata": {},
   "outputs": [
    {
     "data": {
      "text/plain": [
       "Titre                    1\n",
       "Temps Total            139\n",
       "Temps Préparation        1\n",
       "Temps Cuisson            1\n",
       "Nombre de personnes     23\n",
       "Difficulté               1\n",
       "Coût                     1\n",
       "Ingrédients              0\n",
       "Étapes                   0\n",
       "Ustensiles               0\n",
       "Liens_recette            0\n",
       "Type                     0\n",
       "dtype: int64"
      ]
     },
     "execution_count": 235,
     "metadata": {},
     "output_type": "execute_result"
    }
   ],
   "source": [
    "df.isna().sum()"
   ]
  },
  {
   "cell_type": "code",
   "execution_count": 236,
   "metadata": {},
   "outputs": [],
   "source": [
    "# Supprimer les individus sans titre\n",
    "df = df.dropna(subset=['Titre'])"
   ]
  },
  {
   "cell_type": "code",
   "execution_count": 237,
   "metadata": {},
   "outputs": [],
   "source": [
    "# Supprimer les individus sans nombre de personnes\n",
    "df = df.dropna(subset=['Nombre de personnes'])"
   ]
  },
  {
   "cell_type": "markdown",
   "metadata": {},
   "source": [
    "### Convertir les durees en minutes"
   ]
  },
  {
   "cell_type": "code",
   "execution_count": 238,
   "metadata": {},
   "outputs": [],
   "source": [
    "def convertir_duree_en_minutes(duree):\n",
    "    if pd.isnull(duree):\n",
    "        return 0\n",
    "\n",
    "    # Expressions régulières\n",
    "    patterns = {\n",
    "        'j': r'(\\d+)\\s*j',\n",
    "        'h': r'(\\d+)\\s*h',\n",
    "        'min': r'(\\d+)\\s*min',\n",
    "        'sec': r'(\\d+)\\s*sec',\n",
    "        'h_min': r'(\\d+)h(\\d+)?'\n",
    "    }\n",
    "\n",
    "    jours = int(re.search(patterns['j'], duree).group(1)) * 24 * 60 if re.search(patterns['j'], duree) else 0\n",
    "    heures = int(re.search(patterns['h'], duree).group(1)) * 60 if re.search(patterns['h'], duree) else 0\n",
    "    minutes = int(re.search(patterns['min'], duree).group(1)) if re.search(patterns['min'], duree) else 0\n",
    "    secondes = int(re.search(patterns['sec'], duree).group(1)) if re.search(patterns['sec'], duree) else 0\n",
    "\n",
    "    # Format compact sans espace \"1h30\"\n",
    "    if re.search(patterns['h_min'], duree):\n",
    "        match = re.search(patterns['h_min'], duree)\n",
    "        heures = int(match.group(1)) * 60\n",
    "        minutes = int(match.group(2)) if match.group(2) else 0\n",
    "\n",
    "    total_minutes = jours + heures + minutes + secondes / 60\n",
    "    return round(total_minutes)\n"
   ]
  },
  {
   "cell_type": "code",
   "execution_count": 239,
   "metadata": {},
   "outputs": [],
   "source": [
    "# Convertir la colonne 'Temps Total' en minutes\n",
    "df['temps_total_minutes'] = df['Temps Total'].apply(convertir_duree_en_minutes)\n",
    "df['temps_preparation_minutes'] = df['Temps Préparation'].apply(convertir_duree_en_minutes)\n",
    "df['temps_cuisson_minutes'] = df['Temps Cuisson'].apply(convertir_duree_en_minutes)"
   ]
  },
  {
   "cell_type": "code",
   "execution_count": 240,
   "metadata": {},
   "outputs": [],
   "source": [
    "# Supprimer les anciennes colonnes\n",
    "df.drop(columns=['Temps Total', 'Temps Préparation', 'Temps Cuisson'], inplace=True)"
   ]
  },
  {
   "cell_type": "code",
   "execution_count": 241,
   "metadata": {},
   "outputs": [],
   "source": [
    "# Renommer les colonnes\n",
    "df.rename(columns={'Titre': 'titre',\n",
    "                   'Nombre de personnes': 'nombre_personnes',\n",
    "                   'Ingrédients': 'ingredients',\n",
    "                   'Étapes': 'etapes',\n",
    "                   'Type': 'type',\n",
    "                   'Ustensiles': 'ustensiles',\n",
    "                   'Difficulté': 'difficulte',\n",
    "                   'Coût': 'cout',\n",
    "                   'Liens_recette': 'lien_recette'}, inplace=True)"
   ]
  },
  {
   "cell_type": "code",
   "execution_count": 242,
   "metadata": {},
   "outputs": [],
   "source": [
    "# Modifier l'ordre des colonnes\n",
    "# Réorganiser l'ordre des colonnes\n",
    "nouvel_ordre = ['titre', 'type', 'temps_total_minutes', 'temps_preparation_minutes', 'temps_cuisson_minutes', \n",
    "                'nombre_personnes', 'difficulte', 'cout', 'ingredients', \n",
    "                'etapes', 'ustensiles', 'lien_recette']\n",
    "df = df[nouvel_ordre]"
   ]
  },
  {
   "cell_type": "markdown",
   "metadata": {},
   "source": [
    "### Imputation de la colonne 'temps_total_minutes' en faisant l'addition de 'temps_preparation_minutes' et 'temps_cuisson_minutes'"
   ]
  },
  {
   "cell_type": "code",
   "execution_count": 243,
   "metadata": {},
   "outputs": [],
   "source": [
    "# Remplacer les valeurs egales a 0 dans la colonne 'temps_total_minutes' par la somme de 'temps_preparation_minutes' et 'temps_cuisson_minutes'\n",
    "df.loc[df['temps_total_minutes'] == 0, 'temps_total_minutes'] = df['temps_preparation_minutes'] + df['temps_cuisson_minutes']"
   ]
  },
  {
   "cell_type": "code",
   "execution_count": 244,
   "metadata": {},
   "outputs": [
    {
     "data": {
      "text/plain": [
       "134"
      ]
     },
     "execution_count": 244,
     "metadata": {},
     "output_type": "execute_result"
    }
   ],
   "source": [
    "# Nombre de recettes avec un temps total egal a 0\n",
    "df[df['temps_total_minutes'] == 0].shape[0]"
   ]
  },
  {
   "cell_type": "code",
   "execution_count": 245,
   "metadata": {},
   "outputs": [],
   "source": [
    "# Supprimer les colonnes ou la duree est egal a 0\n",
    "df = df[df['temps_total_minutes'] != 0]"
   ]
  },
  {
   "cell_type": "markdown",
   "metadata": {},
   "source": [
    "### Convertir le nombre de personne en type entier"
   ]
  },
  {
   "cell_type": "code",
   "execution_count": 246,
   "metadata": {},
   "outputs": [],
   "source": [
    "# Convertir la colonne 'Nombre de personnes' en entier\n",
    "df['nombre_personnes'] = pd.to_numeric(df['nombre_personnes'], errors='coerce')  # convertit en float, les erreurs deviennent NaN\n",
    "df['nombre_personnes'] = df['nombre_personnes'].fillna(0).astype(int)"
   ]
  },
  {
   "cell_type": "code",
   "execution_count": 247,
   "metadata": {},
   "outputs": [],
   "source": [
    "# Verifier les recettes qui ont un nombre de personnes egale a 0 et supprimer les individus concerner\n",
    "df[df['nombre_personnes'] == 0].shape[0]\n",
    "df = df[df['nombre_personnes'] != 0]"
   ]
  },
  {
   "cell_type": "code",
   "execution_count": 248,
   "metadata": {},
   "outputs": [
    {
     "data": {
      "text/html": [
       "<div>\n",
       "<style scoped>\n",
       "    .dataframe tbody tr th:only-of-type {\n",
       "        vertical-align: middle;\n",
       "    }\n",
       "\n",
       "    .dataframe tbody tr th {\n",
       "        vertical-align: top;\n",
       "    }\n",
       "\n",
       "    .dataframe thead th {\n",
       "        text-align: right;\n",
       "    }\n",
       "</style>\n",
       "<table border=\"1\" class=\"dataframe\">\n",
       "  <thead>\n",
       "    <tr style=\"text-align: right;\">\n",
       "      <th></th>\n",
       "      <th>titre</th>\n",
       "      <th>type</th>\n",
       "      <th>temps_total_minutes</th>\n",
       "      <th>temps_preparation_minutes</th>\n",
       "      <th>temps_cuisson_minutes</th>\n",
       "      <th>nombre_personnes</th>\n",
       "      <th>difficulte</th>\n",
       "      <th>cout</th>\n",
       "      <th>ingredients</th>\n",
       "      <th>etapes</th>\n",
       "      <th>ustensiles</th>\n",
       "      <th>lien_recette</th>\n",
       "    </tr>\n",
       "  </thead>\n",
       "  <tbody>\n",
       "    <tr>\n",
       "      <th>0</th>\n",
       "      <td>Cuisse de dinde façon couscous de chez Karpeth</td>\n",
       "      <td>plat</td>\n",
       "      <td>110</td>\n",
       "      <td>25</td>\n",
       "      <td>85</td>\n",
       "      <td>4</td>\n",
       "      <td>moyenne</td>\n",
       "      <td>moyen</td>\n",
       "      <td>['2 courgettes , diamètre 4 ou 5 cm', '3 carot...</td>\n",
       "      <td>['1 casserole pour préparer la semoule (ou 1 b...</td>\n",
       "      <td>['1 couteau', '1 Couvercle', '1 sauteuse', '1 ...</td>\n",
       "      <td>https://www.marmiton.org/recettes/recette_cuis...</td>\n",
       "    </tr>\n",
       "    <tr>\n",
       "      <th>1</th>\n",
       "      <td>Blanquette de veau facile au Cookeo</td>\n",
       "      <td>plat</td>\n",
       "      <td>70</td>\n",
       "      <td>25</td>\n",
       "      <td>45</td>\n",
       "      <td>4</td>\n",
       "      <td>très facile</td>\n",
       "      <td>moyen</td>\n",
       "      <td>['2 carottes', '1 oignon jaune', '1 petit pot ...</td>\n",
       "      <td>[\"Coupez la viande en morceaux de taille moyen...</td>\n",
       "      <td>['1 Cookeo', '1 Cuillère en bois', '1 bol', '1...</td>\n",
       "      <td>https://www.marmiton.org/recettes/recette_blan...</td>\n",
       "    </tr>\n",
       "    <tr>\n",
       "      <th>2</th>\n",
       "      <td>Terrine de foie gras au Sauternes</td>\n",
       "      <td>plat</td>\n",
       "      <td>100</td>\n",
       "      <td>40</td>\n",
       "      <td>60</td>\n",
       "      <td>10</td>\n",
       "      <td>facile</td>\n",
       "      <td>assez cher</td>\n",
       "      <td>['3 pincées de quatre-épices', '15 g de sel', ...</td>\n",
       "      <td>['A préparer 4 ou 5 jours avant.', \"Faire trem...</td>\n",
       "      <td>['1 Cuillère en bois', '1 saladier', '1 Four',...</td>\n",
       "      <td>https://www.marmiton.org/recettes/recette_terr...</td>\n",
       "    </tr>\n",
       "    <tr>\n",
       "      <th>3</th>\n",
       "      <td>Couscous Royal</td>\n",
       "      <td>plat</td>\n",
       "      <td>210</td>\n",
       "      <td>30</td>\n",
       "      <td>180</td>\n",
       "      <td>2</td>\n",
       "      <td>facile</td>\n",
       "      <td>bon marché</td>\n",
       "      <td>['1 barquette d’émincé 100% végétal ACCRO', '4...</td>\n",
       "      <td>['Préparation de la semoule : placez la semoul...</td>\n",
       "      <td>['1 plat', '1 casseroles', '1 couteau']</td>\n",
       "      <td>https://www.marmiton.org/recettes/recette_cous...</td>\n",
       "    </tr>\n",
       "    <tr>\n",
       "      <th>4</th>\n",
       "      <td>Quiche jambon, fromage, tomate, olives</td>\n",
       "      <td>plat</td>\n",
       "      <td>40</td>\n",
       "      <td>15</td>\n",
       "      <td>25</td>\n",
       "      <td>6</td>\n",
       "      <td>facile</td>\n",
       "      <td>bon marché</td>\n",
       "      <td>[\"4 tranches de jambon cuit à l'Étouffée LE BO...</td>\n",
       "      <td>['Préchauffez le four à 200°C en chaleur tourn...</td>\n",
       "      <td>['1 moule à tarte', '1 fourchette', '1 saladier']</td>\n",
       "      <td>https://www.marmiton.org/recettes/recette_quic...</td>\n",
       "    </tr>\n",
       "  </tbody>\n",
       "</table>\n",
       "</div>"
      ],
      "text/plain": [
       "                                            titre  type  temps_total_minutes  \\\n",
       "0  Cuisse de dinde façon couscous de chez Karpeth  plat                  110   \n",
       "1             Blanquette de veau facile au Cookeo  plat                   70   \n",
       "2               Terrine de foie gras au Sauternes  plat                  100   \n",
       "3                                  Couscous Royal  plat                  210   \n",
       "4          Quiche jambon, fromage, tomate, olives  plat                   40   \n",
       "\n",
       "   temps_preparation_minutes  temps_cuisson_minutes  nombre_personnes  \\\n",
       "0                         25                     85                 4   \n",
       "1                         25                     45                 4   \n",
       "2                         40                     60                10   \n",
       "3                         30                    180                 2   \n",
       "4                         15                     25                 6   \n",
       "\n",
       "    difficulte        cout                                        ingredients  \\\n",
       "0      moyenne       moyen  ['2 courgettes , diamètre 4 ou 5 cm', '3 carot...   \n",
       "1  très facile       moyen  ['2 carottes', '1 oignon jaune', '1 petit pot ...   \n",
       "2       facile  assez cher  ['3 pincées de quatre-épices', '15 g de sel', ...   \n",
       "3       facile  bon marché  ['1 barquette d’émincé 100% végétal ACCRO', '4...   \n",
       "4       facile  bon marché  [\"4 tranches de jambon cuit à l'Étouffée LE BO...   \n",
       "\n",
       "                                              etapes  \\\n",
       "0  ['1 casserole pour préparer la semoule (ou 1 b...   \n",
       "1  [\"Coupez la viande en morceaux de taille moyen...   \n",
       "2  ['A préparer 4 ou 5 jours avant.', \"Faire trem...   \n",
       "3  ['Préparation de la semoule : placez la semoul...   \n",
       "4  ['Préchauffez le four à 200°C en chaleur tourn...   \n",
       "\n",
       "                                          ustensiles  \\\n",
       "0  ['1 couteau', '1 Couvercle', '1 sauteuse', '1 ...   \n",
       "1  ['1 Cookeo', '1 Cuillère en bois', '1 bol', '1...   \n",
       "2  ['1 Cuillère en bois', '1 saladier', '1 Four',...   \n",
       "3            ['1 plat', '1 casseroles', '1 couteau']   \n",
       "4  ['1 moule à tarte', '1 fourchette', '1 saladier']   \n",
       "\n",
       "                                        lien_recette  \n",
       "0  https://www.marmiton.org/recettes/recette_cuis...  \n",
       "1  https://www.marmiton.org/recettes/recette_blan...  \n",
       "2  https://www.marmiton.org/recettes/recette_terr...  \n",
       "3  https://www.marmiton.org/recettes/recette_cous...  \n",
       "4  https://www.marmiton.org/recettes/recette_quic...  "
      ]
     },
     "execution_count": 248,
     "metadata": {},
     "output_type": "execute_result"
    }
   ],
   "source": [
    "df.head()"
   ]
  },
  {
   "cell_type": "markdown",
   "metadata": {},
   "source": [
    "### Convertir les ingredients, etapes et ustensiles en liste"
   ]
  },
  {
   "cell_type": "code",
   "execution_count": 249,
   "metadata": {},
   "outputs": [],
   "source": [
    "# Convertir les ingredients en liste\n",
    "df['ingredients'] = df['ingredients'].apply(ast.literal_eval)"
   ]
  },
  {
   "cell_type": "code",
   "execution_count": 250,
   "metadata": {},
   "outputs": [],
   "source": [
    "# Convertir les etapes en liste\n",
    "df['etapes'] = df['etapes'].apply(ast.literal_eval)"
   ]
  },
  {
   "cell_type": "code",
   "execution_count": 251,
   "metadata": {},
   "outputs": [],
   "source": [
    "# Convertir les ustensiles en liste\n",
    "df['ustensiles'] = df['ustensiles'].apply(ast.literal_eval)"
   ]
  },
  {
   "cell_type": "code",
   "execution_count": 252,
   "metadata": {},
   "outputs": [
    {
     "data": {
      "text/html": [
       "<div>\n",
       "<style scoped>\n",
       "    .dataframe tbody tr th:only-of-type {\n",
       "        vertical-align: middle;\n",
       "    }\n",
       "\n",
       "    .dataframe tbody tr th {\n",
       "        vertical-align: top;\n",
       "    }\n",
       "\n",
       "    .dataframe thead th {\n",
       "        text-align: right;\n",
       "    }\n",
       "</style>\n",
       "<table border=\"1\" class=\"dataframe\">\n",
       "  <thead>\n",
       "    <tr style=\"text-align: right;\">\n",
       "      <th></th>\n",
       "      <th>titre</th>\n",
       "      <th>type</th>\n",
       "      <th>temps_total_minutes</th>\n",
       "      <th>temps_preparation_minutes</th>\n",
       "      <th>temps_cuisson_minutes</th>\n",
       "      <th>nombre_personnes</th>\n",
       "      <th>difficulte</th>\n",
       "      <th>cout</th>\n",
       "      <th>ingredients</th>\n",
       "      <th>etapes</th>\n",
       "      <th>ustensiles</th>\n",
       "      <th>lien_recette</th>\n",
       "    </tr>\n",
       "  </thead>\n",
       "  <tbody>\n",
       "    <tr>\n",
       "      <th>0</th>\n",
       "      <td>Cuisse de dinde façon couscous de chez Karpeth</td>\n",
       "      <td>plat</td>\n",
       "      <td>110</td>\n",
       "      <td>25</td>\n",
       "      <td>85</td>\n",
       "      <td>4</td>\n",
       "      <td>moyenne</td>\n",
       "      <td>moyen</td>\n",
       "      <td>[2 courgettes , diamètre 4 ou 5 cm, 3 carottes...</td>\n",
       "      <td>[1 casserole pour préparer la semoule (ou 1 bo...</td>\n",
       "      <td>[1 couteau, 1 Couvercle, 1 sauteuse, 1 cassero...</td>\n",
       "      <td>https://www.marmiton.org/recettes/recette_cuis...</td>\n",
       "    </tr>\n",
       "    <tr>\n",
       "      <th>1</th>\n",
       "      <td>Blanquette de veau facile au Cookeo</td>\n",
       "      <td>plat</td>\n",
       "      <td>70</td>\n",
       "      <td>25</td>\n",
       "      <td>45</td>\n",
       "      <td>4</td>\n",
       "      <td>très facile</td>\n",
       "      <td>moyen</td>\n",
       "      <td>[2 carottes, 1 oignon jaune, 1 petit pot de cr...</td>\n",
       "      <td>[Coupez la viande en morceaux de taille moyenn...</td>\n",
       "      <td>[1 Cookeo, 1 Cuillère en bois, 1 bol, 1 Mijote...</td>\n",
       "      <td>https://www.marmiton.org/recettes/recette_blan...</td>\n",
       "    </tr>\n",
       "    <tr>\n",
       "      <th>2</th>\n",
       "      <td>Terrine de foie gras au Sauternes</td>\n",
       "      <td>plat</td>\n",
       "      <td>100</td>\n",
       "      <td>40</td>\n",
       "      <td>60</td>\n",
       "      <td>10</td>\n",
       "      <td>facile</td>\n",
       "      <td>assez cher</td>\n",
       "      <td>[3 pincées de quatre-épices, 15 g de sel, 1 pi...</td>\n",
       "      <td>[A préparer 4 ou 5 jours avant., Faire tremper...</td>\n",
       "      <td>[1 Cuillère en bois, 1 saladier, 1 Four, 1 cou...</td>\n",
       "      <td>https://www.marmiton.org/recettes/recette_terr...</td>\n",
       "    </tr>\n",
       "    <tr>\n",
       "      <th>3</th>\n",
       "      <td>Couscous Royal</td>\n",
       "      <td>plat</td>\n",
       "      <td>210</td>\n",
       "      <td>30</td>\n",
       "      <td>180</td>\n",
       "      <td>2</td>\n",
       "      <td>facile</td>\n",
       "      <td>bon marché</td>\n",
       "      <td>[1 barquette d’émincé 100% végétal ACCRO, 4 me...</td>\n",
       "      <td>[Préparation de la semoule : placez la semoule...</td>\n",
       "      <td>[1 plat, 1 casseroles, 1 couteau]</td>\n",
       "      <td>https://www.marmiton.org/recettes/recette_cous...</td>\n",
       "    </tr>\n",
       "    <tr>\n",
       "      <th>4</th>\n",
       "      <td>Quiche jambon, fromage, tomate, olives</td>\n",
       "      <td>plat</td>\n",
       "      <td>40</td>\n",
       "      <td>15</td>\n",
       "      <td>25</td>\n",
       "      <td>6</td>\n",
       "      <td>facile</td>\n",
       "      <td>bon marché</td>\n",
       "      <td>[4 tranches de jambon cuit à l'Étouffée LE BON...</td>\n",
       "      <td>[Préchauffez le four à 200°C en chaleur tourna...</td>\n",
       "      <td>[1 moule à tarte, 1 fourchette, 1 saladier]</td>\n",
       "      <td>https://www.marmiton.org/recettes/recette_quic...</td>\n",
       "    </tr>\n",
       "  </tbody>\n",
       "</table>\n",
       "</div>"
      ],
      "text/plain": [
       "                                            titre  type  temps_total_minutes  \\\n",
       "0  Cuisse de dinde façon couscous de chez Karpeth  plat                  110   \n",
       "1             Blanquette de veau facile au Cookeo  plat                   70   \n",
       "2               Terrine de foie gras au Sauternes  plat                  100   \n",
       "3                                  Couscous Royal  plat                  210   \n",
       "4          Quiche jambon, fromage, tomate, olives  plat                   40   \n",
       "\n",
       "   temps_preparation_minutes  temps_cuisson_minutes  nombre_personnes  \\\n",
       "0                         25                     85                 4   \n",
       "1                         25                     45                 4   \n",
       "2                         40                     60                10   \n",
       "3                         30                    180                 2   \n",
       "4                         15                     25                 6   \n",
       "\n",
       "    difficulte        cout                                        ingredients  \\\n",
       "0      moyenne       moyen  [2 courgettes , diamètre 4 ou 5 cm, 3 carottes...   \n",
       "1  très facile       moyen  [2 carottes, 1 oignon jaune, 1 petit pot de cr...   \n",
       "2       facile  assez cher  [3 pincées de quatre-épices, 15 g de sel, 1 pi...   \n",
       "3       facile  bon marché  [1 barquette d’émincé 100% végétal ACCRO, 4 me...   \n",
       "4       facile  bon marché  [4 tranches de jambon cuit à l'Étouffée LE BON...   \n",
       "\n",
       "                                              etapes  \\\n",
       "0  [1 casserole pour préparer la semoule (ou 1 bo...   \n",
       "1  [Coupez la viande en morceaux de taille moyenn...   \n",
       "2  [A préparer 4 ou 5 jours avant., Faire tremper...   \n",
       "3  [Préparation de la semoule : placez la semoule...   \n",
       "4  [Préchauffez le four à 200°C en chaleur tourna...   \n",
       "\n",
       "                                          ustensiles  \\\n",
       "0  [1 couteau, 1 Couvercle, 1 sauteuse, 1 cassero...   \n",
       "1  [1 Cookeo, 1 Cuillère en bois, 1 bol, 1 Mijote...   \n",
       "2  [1 Cuillère en bois, 1 saladier, 1 Four, 1 cou...   \n",
       "3                  [1 plat, 1 casseroles, 1 couteau]   \n",
       "4        [1 moule à tarte, 1 fourchette, 1 saladier]   \n",
       "\n",
       "                                        lien_recette  \n",
       "0  https://www.marmiton.org/recettes/recette_cuis...  \n",
       "1  https://www.marmiton.org/recettes/recette_blan...  \n",
       "2  https://www.marmiton.org/recettes/recette_terr...  \n",
       "3  https://www.marmiton.org/recettes/recette_cous...  \n",
       "4  https://www.marmiton.org/recettes/recette_quic...  "
      ]
     },
     "execution_count": 252,
     "metadata": {},
     "output_type": "execute_result"
    }
   ],
   "source": [
    "df.head()"
   ]
  },
  {
   "cell_type": "markdown",
   "metadata": {},
   "source": [
    "### Enregistrer le dataset"
   ]
  },
  {
   "cell_type": "code",
   "execution_count": 253,
   "metadata": {},
   "outputs": [],
   "source": [
    "df.to_csv(\"dataset/marmiton/data/dataset-recettes-v1.csv\", sep=\";\", encoding=\"utf-8\", index=False)"
   ]
  }
 ],
 "metadata": {
  "kernelspec": {
   "display_name": "Python 3",
   "language": "python",
   "name": "python3"
  },
  "language_info": {
   "codemirror_mode": {
    "name": "ipython",
    "version": 3
   },
   "file_extension": ".py",
   "mimetype": "text/x-python",
   "name": "python",
   "nbconvert_exporter": "python",
   "pygments_lexer": "ipython3",
   "version": "3.11.0"
  }
 },
 "nbformat": 4,
 "nbformat_minor": 2
}
